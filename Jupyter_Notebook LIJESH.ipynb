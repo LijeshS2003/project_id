{
 "cells": [
  {
   "cell_type": "markdown",
   "metadata": {},
   "source": [
    "<center>\n",
    "    <img src=\"https://cf-courses-data.s3.us.cloud-object-storage.appdomain.cloud/IBMDeveloperSkillsNetwork-DS0105EN-SkillsNetwork/labs/Module2/images/SN_web_lightmode.png\" width=\"300\" alt=\"cognitiveclass.ai logo\">\n",
    "</center>\n"
   ]
  },
  {
   "cell_type": "markdown",
   "metadata": {},
   "source": [
    "# JUPYTER Notebook\n"
   ]
  },
  {
   "cell_type": "markdown",
   "metadata": {},
   "source": [
    "## Introduction\n",
    "\n",
    "This notebook explores various concepts and techniques in [subject/topic]. We'll cover a range of topics, including [list some topics or techniques], and apply these concepts through practical examples and analyses. Our goal is to gain a deeper understanding of [specific goal or objective]."
   ]
  },
  {
   "cell_type": "markdown",
   "metadata": {},
   "source": [
    "# DATA SCIENCE LANGUAGE:\n",
    "The following languages are:\n",
    "- Python\n",
    "- R\n",
    "- SQL\n",
    "- JAVA\n",
    "- Scala"
   ]
  },
  {
   "cell_type": "markdown",
   "metadata": {},
   "source": [
    "## Data science libraries\n",
    "\n",
    "- NUMPY\n",
    "- PANDA\n",
    "- SEABORN\n",
    "- MATPLOTLIB"
   ]
  },
  {
   "cell_type": "markdown",
   "metadata": {},
   "source": [
    "## Data Science Tools\n",
    "\n",
    "| Tool Name      | Type          | Description                         |\n",
    "|----------------|---------------|-------------------------------------|\n",
    "| Jupyter        | IDE           | Interactive development environment for writing and running code. |\n",
    "| Tableau        | Visualization | Tool for data visualization and business intelligence. |\n",
    "| Apache Spark   | Big Data      | Engine for large-scale data processing. |\n",
    "| MySQL          | Database      | Relational database management system. |\n",
    "| TensorFlow     | Machine Learning | Library for numerical computation and machine learning. |\n",
    "| Git            | Version Control | System for tracking changes in source code. |\n",
    "| Anaconda       | Distribution  | Package manager and environment manager for data science projects. |"
   ]
  },
  {
   "cell_type": "markdown",
   "metadata": {
    "tags": []
   },
   "source": [
    "## Arithmetic Expression Examples\n",
    "\n",
    "we will explore various arithmetic expressions. Arithmetic expressions are used to perform mathematical operations like addition, subtraction, multiplication, and division. Here are some examples:\n",
    "\n",
    "- **Addition (Sum)**: `a + b`\n",
    "- **Subtraction (Difference)**: `a - b`\n",
    "- **Multiplication (Product)**: `a * b`\n",
    "- **Division (Quotient)**: `a / b`\n",
    "- **Modulus (Remainder)**: `a % b`\n"
   ]
  },
  {
   "cell_type": "code",
   "execution_count": 1,
   "metadata": {
    "tags": []
   },
   "outputs": [
    {
     "name": "stdout",
     "output_type": "stream",
     "text": [
      "Final Result: 53\n"
     ]
    }
   ],
   "source": [
    "# Example: Multiplying and Adding Numbers\n",
    "\n",
    "n1 = 5\n",
    "n2 = 10\n",
    "n3 = 3\n",
    "\n",
    "# Multiplying number1 and number2\n",
    "multiplication_result = n1 * n2\n",
    "\n",
    "# Adding the result of multiplication to number3\n",
    "final_result = multiplication_result + n3\n",
    "\n",
    "# Displaying the final result\n",
    "print(\"Final Result:\", final_result)"
   ]
  },
  {
   "cell_type": "code",
   "execution_count": 2,
   "metadata": {
    "tags": []
   },
   "outputs": [
    {
     "data": {
      "text/plain": [
       "'120 minutes is equal to 2.0 hours.'"
      ]
     },
     "execution_count": 2,
     "metadata": {},
     "output_type": "execute_result"
    }
   ],
   "source": [
    "# Convert Minutes to Hours\n",
    "\n",
    "minutes = 120  # Example: 120 minutes\n",
    "\n",
    "# Converting minutes to hours\n",
    "hours = minutes / 60\n",
    "\n",
    "# Displaying the result\n",
    "str(minutes) + \" minutes is equal to \"+ str(hours)+ \" hours.\""
   ]
  },
  {
   "cell_type": "markdown",
   "metadata": {
    "tags": []
   },
   "source": [
    "## Objectives\n",
    "\n",
    "In this notebook, our key objectives include:\n",
    "\n",
    "1. **Understanding Fundamental Concepts**: Grasping the basic principles and theories relevant to our topic of study.\n",
    "2. **Practical Application**: Implementing learned concepts through hands-on exercises and real-world examples.\n",
    "3. **Data Analysis Proficiency**: Developing skills to effectively analyze and interpret data.\n",
    "4. **Advanced Techniques Exploration**: Delving into more sophisticated methods and tools in our field.\n",
    "5. **Critical Thinking and Problem-Solving**: Enhancing our ability to approach problems logically and find innovative solutions.\n",
    "6. **Collaboration and Communication**: Improving our skills in working with others and effectively communicating our findings and ideas."
   ]
  },
  {
   "cell_type": "markdown",
   "metadata": {},
   "source": [
    "# Author\n",
    "\n",
    "## Name :Fernando Pérez and Brian Granger"
   ]
  },
  {
   "cell_type": "code",
   "execution_count": null,
   "metadata": {},
   "outputs": [],
   "source": []
  }
 ],
 "metadata": {
  "kernelspec": {
   "display_name": "Python",
   "language": "python",
   "name": "conda-env-python-py"
  },
  "language_info": {
   "codemirror_mode": {
    "name": "ipython",
    "version": 3
   },
   "file_extension": ".py",
   "mimetype": "text/x-python",
   "name": "python",
   "nbconvert_exporter": "python",
   "pygments_lexer": "ipython3",
   "version": "3.7.12"
  }
 },
 "nbformat": 4,
 "nbformat_minor": 4
}
